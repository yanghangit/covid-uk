{
 "cells": [
  {
   "cell_type": "code",
   "execution_count": 1,
   "metadata": {},
   "outputs": [],
   "source": [
    "import os\n",
    "import scipy\n",
    "import numpy as np\n",
    "import pandas as pd\n",
    "import geopandas as gpd\n",
    "from sklearn.impute import KNNImputer"
   ]
  },
  {
   "cell_type": "code",
   "execution_count": 2,
   "metadata": {},
   "outputs": [],
   "source": [
    "start_date = '2020-03-01'\n",
    "end_date = '2022-03-31'\n",
    "N_neighbors_spatial_interpolation = 3"
   ]
  },
  {
   "cell_type": "code",
   "execution_count": 3,
   "metadata": {},
   "outputs": [],
   "source": [
    "# # https://opendata.camden.gov.uk/Maps/Postcodes-Local-Authorities-only-v01/g3bz-7ur8\n",
    "# # load mapping from postcode to local authority\n",
    "# postcode_mapping = pd.read_csv(\"../gis/postcodes_to_las.csv\")\n",
    "# postcode_mapping.head()"
   ]
  },
  {
   "cell_type": "code",
   "execution_count": null,
   "metadata": {},
   "outputs": [],
   "source": [
    "# https://geoportal.statistics.gov.uk/datasets/ons::nhs-postcode-directory-uk-full-may-2019/about\n",
    "postcode_mapping = pd.read_csv(\"gis/NHSPD_MAY_2019_UK_FULL/Data/nhg19may.csv\", low_memory=False, header=None)\n",
    "postcode_mapping = postcode_mapping[[0, 1, 8]]\n",
    "postcode_mapping.columns = ['Postcode 1', 'Postcode 2', 'Local Authority Code']\n",
    "postcode_mapping.head()"
   ]
  },
  {
   "cell_type": "code",
   "execution_count": 5,
   "metadata": {},
   "outputs": [],
   "source": [
    "disease_coding = {\n",
    "    \"Asthma\": \"ASTHMA 1\",\n",
    "    \"COPD\": \"COPD 1\",\n",
    "    \"Dementia\": \"DEM 1\",\n",
    "    \"Diabetes\": \"DM 1\",\n",
    "    \"Hypertension\": \"BP 1\",\n",
    "    \"Obesity\": \"Obesity 1\",\n",
    "    \"Stroke\": \"STROKE 1\"\n",
    "}"
   ]
  },
  {
   "cell_type": "code",
   "execution_count": null,
   "metadata": {},
   "outputs": [],
   "source": [
    "ltlas_gdf = gpd.GeoDataFrame.from_file(os.path.join(\"gis\", 'lad19.geojson'))\n",
    "districts = pd.unique(ltlas_gdf['district_name'])\n",
    "district_ids = pd.unique(ltlas_gdf['district_id'])\n",
    "ltlas_gdf.head()"
   ]
  },
  {
   "cell_type": "code",
   "execution_count": null,
   "metadata": {},
   "outputs": [],
   "source": [
    "ltlas_gdf[ltlas_gdf['district_id'].str.startswith(\"N\")]"
   ]
  },
  {
   "cell_type": "code",
   "execution_count": 8,
   "metadata": {},
   "outputs": [],
   "source": [
    "# https://www.nisra.gov.uk/sites/nisra.gov.uk/files/publications/Maps-of-NI-Health-Trusts-and-Local-Government-Districts.pdf\n",
    "NI_health_trust_to_local_authority = {\n",
    "    \"Belfast\": [\"N09000003\", \"N09000007\"],\n",
    "    \"Northern\": [\"N09000001\", \"N09000004\", \"N09000008\", \"N09000009\"],\n",
    "    \"South Eastern\": [\"N09000011\", \"N09000007\", \"N09000010\"],\n",
    "    \"Southern\": [\"N09000002\", \"N09000010\"],\n",
    "    \"Western\": [\"N09000005\", \"N09000006\"]\n",
    "}\n",
    "\n",
    "# https://www.health-ni.gov.uk/publications/health-survey-northern-ireland-first-results-201819\n",
    "NI_smoking_prevalence = {\n",
    "    \"Belfast\": 20.4688930448713,\n",
    "    \"Northern\": 17.5673075712139,\n",
    "    \"South Eastern\": 15.2428542967955,\n",
    "    \"Southern\": 20.4448074256214,\n",
    "    \"Western\": 19.6618106966883\n",
    "}"
   ]
  },
  {
   "cell_type": "code",
   "execution_count": null,
   "metadata": {},
   "outputs": [],
   "source": [
    "GB_smoking_prevalence = pd.read_excel(\"comorbidity/Smoking/GB_smoking_data.xlsx\")\n",
    "GB_smoking_prevalence.head()"
   ]
  },
  {
   "cell_type": "code",
   "execution_count": 10,
   "metadata": {},
   "outputs": [],
   "source": [
    "smoking_data = {}\n",
    "for idx, row in GB_smoking_prevalence.iterrows():\n",
    "    smoking_data[row['Local Authority Code']] = row['Smoking']\n",
    "for health_trust in NI_health_trust_to_local_authority:\n",
    "    for district_id in NI_health_trust_to_local_authority[health_trust]:\n",
    "        smoking_data[district_id] = NI_smoking_prevalence[health_trust]"
   ]
  },
  {
   "cell_type": "code",
   "execution_count": null,
   "metadata": {},
   "outputs": [],
   "source": [
    "achievement_names = [\"id\", \"year\", 'numerator', 'denominator', 'ratio', 'centile', 'orgcode', 'areaid', 'active']\n",
    "achievement_df = pd.read_csv(\"comorbidity/QOF/qofdb_achievement.csv.gz\", header=None, names=achievement_names, low_memory=False)\n",
    "achievement_df = achievement_df[achievement_df['areaid'].isin(disease_coding.values())]\n",
    "achievement_df.head()"
   ]
  },
  {
   "cell_type": "code",
   "execution_count": null,
   "metadata": {},
   "outputs": [],
   "source": [
    "org_names = [\"orgcode\", 'level', 'name', 'addr', 'postcode', 'website']\n",
    "org_df = pd.read_csv(\"comorbidity/QOF/qofdb_organisation.csv.gz\", header=None, names=org_names, low_memory=False)\n",
    "org_df = org_df[['orgcode', 'postcode']]\n",
    "org_df.head()"
   ]
  },
  {
   "cell_type": "code",
   "execution_count": null,
   "metadata": {},
   "outputs": [],
   "source": [
    "df = pd.merge(achievement_df, org_df, left_on=\"orgcode\", right_on=\"orgcode\", how=\"left\")\n",
    "df = pd.merge(df, postcode_mapping, left_on=\"postcode\", right_on=\"Postcode 2\", how=\"left\")\n",
    "df = df[['id', 'year', 'numerator', 'denominator', 'areaid', 'Local Authority Code']]\n",
    "df = df.groupby(['Local Authority Code', 'areaid', 'year'])[['numerator', 'denominator']].sum().reset_index()\n",
    "df = df.sort_values(['Local Authority Code', 'areaid', 'year'])\n",
    "df = df.groupby(['Local Authority Code', 'areaid']).last().reset_index()\n",
    "df['prevalence'] = df['numerator'] / df['denominator'] * 100\n",
    "df = df.rename(columns={\"Local Authority Code\": \"district_id\", \"areaid\": \"disease\"})\n",
    "df = df[['district_id', 'disease', 'prevalence']]\n",
    "df['disease'] = df['disease'].map(dict([(value, key) for key, value in disease_coding.items()]))\n",
    "df = df.pivot(index=\"district_id\", columns=\"disease\", values=\"prevalence\").reset_index()\n",
    "df = pd.merge(df, ltlas_gdf, left_on=\"district_id\", right_on=\"district_id\", how=\"right\")\n",
    "df = df[['district_name', 'district_id'] + list(disease_coding.keys())]\n",
    "df = df.sort_values(['district_name', 'district_id']).reset_index()\n",
    "df = df.drop('index', axis=1)\n",
    "df.head()"
   ]
  },
  {
   "cell_type": "code",
   "execution_count": 14,
   "metadata": {},
   "outputs": [],
   "source": [
    "def get_smoking_data(district_id):\n",
    "    if district_id in smoking_data:\n",
    "        return smoking_data['district_id']\n",
    "    else:\n",
    "        return np.nan\n",
    "df['Smoking'] = df['district_id'].apply(lambda x: smoking_data[x])"
   ]
  },
  {
   "cell_type": "code",
   "execution_count": 15,
   "metadata": {},
   "outputs": [],
   "source": [
    "hiv_data_england = pd.read_csv(\"comorbidity/HIV/fingertips_api_hiv.csv\")\n",
    "hiv_data_england = hiv_data_england[['Area Code', 'Time period', 'Value']]\n",
    "hiv_data_england = hiv_data_england.sort_values(['Area Code', 'Time period']).reset_index()\n",
    "hiv_data_england = hiv_data_england.groupby(['Area Code']).last().reset_index()\n",
    "\n",
    "df['HIV'] = np.nan\n",
    "for district_id in district_ids:\n",
    "    if district_id.startswith('N'):\n",
    "        value = 1123/1890000 * 100 #https://www.publichealth.hscni.net/sites/default/files/2020-12/HIV%20%20Report%202020%20tables%20and%20charts%20%282019%20data%29.pdf\n",
    "    elif district_id.startswith('S'):\n",
    "        value = 6100/5460000 * 100 #https://www.hps.scot.nhs.uk/publications/hps-weekly-report/volume-54/issue-25/hiv-infection-in-scotland-summary-report-to-31-december-2019/\n",
    "    elif district_id.startswith('W'):\n",
    "        value = 49/100 #https://gov.wales/written-statement-hiv-aids-rates-prevention-and-treatment-services-wales\n",
    "    elif district_id.startswith('E'):\n",
    "        if len(hiv_data_england[hiv_data_england['Area Code'] == district_id].values):\n",
    "            value = hiv_data_england[hiv_data_england['Area Code'] == district_id]['Value'].values[0]\n",
    "    df.loc[df['district_id'] == district_id, 'HIV'] = value"
   ]
  },
  {
   "cell_type": "code",
   "execution_count": 16,
   "metadata": {},
   "outputs": [],
   "source": [
    "# update England data using the latest Fingertips API\n",
    "for disease_name in [\"Asthma\", \"COPD\", \"Dementia\", \"Diabetes\", \"Hypertension\", \"Obesity\", \"Stroke\"]:\n",
    "    data_england = pd.read_csv(\"comorbidity/England/fingertips_api_%s.csv\" % disease_name.lower(), low_memory=False)\n",
    "    data_england = data_england[['Area Code', 'Time period', 'Value']]\n",
    "    data_england = data_england.sort_values(['Area Code', 'Time period']).reset_index()\n",
    "    data_england = data_england.groupby(['Area Code']).last().reset_index()\n",
    "\n",
    "    for district_id in district_ids:\n",
    "        if district_id.startswith('E'):\n",
    "            original_district_id = district_id\n",
    "            \n",
    "            # district merging after 2019\n",
    "            if district_id == \"E07000004\": # Aylesbury Vale\n",
    "                district_id = \"E06000060\" # Buckinghamshire\n",
    "            if district_id == \"E07000005\": # Chiltern\n",
    "                district_id = \"E06000060\" # Buckinghamshire\n",
    "            if district_id == \"E07000006\": # South Bucks\n",
    "                district_id = \"E06000060\" # Buckinghamshire\n",
    "            if district_id == \"E07000007\": # Wycombe\n",
    "                district_id = \"E06000060\" # Buckinghamshire\n",
    "\n",
    "            if district_id == \"E07000151\": # Daventry\n",
    "                district_id = \"E06000062\" # West Northamptonshire\n",
    "            if district_id == \"E07000154\": # Northampton\n",
    "                district_id = \"E06000062\" # West Northamptonshire\n",
    "            if district_id == \"E07000155\": # South Northamptonshire\n",
    "                district_id = \"E06000062\" # West Northamptonshire\n",
    "\n",
    "            if district_id == \"E07000150\": # Corby\n",
    "                district_id = \"E06000061\" # North Northamptonshire\n",
    "            if district_id == \"E07000152\": # East Northamptonshire\n",
    "                district_id = \"E06000061\" # North Northamptonshire\n",
    "            if district_id == \"E07000153\": # Kettering\n",
    "                district_id = \"E06000061\" # North Northamptonshire\n",
    "            if district_id == \"E07000156\": # Wellingborough\n",
    "                district_id = \"E06000061\" # North Northamptonshire\n",
    "            \n",
    "            if len(data_england[data_england['Area Code'] == district_id].values):\n",
    "                value = data_england[data_england['Area Code'] == district_id]['Value'].values[0]\n",
    "                if not pd.isnull(value):\n",
    "                    df.loc[df['district_id'] == original_district_id, disease_name] = value"
   ]
  },
  {
   "cell_type": "code",
   "execution_count": 17,
   "metadata": {},
   "outputs": [],
   "source": [
    "columns = df.columns\n",
    "new_df = pd.merge(df, ltlas_gdf, left_on=[\"district_id\", 'district_name'], right_on=[\"district_id\", 'district_name'], how=\"left\")\n",
    "new_df = new_df[list(columns)]"
   ]
  },
  {
   "cell_type": "code",
   "execution_count": 18,
   "metadata": {},
   "outputs": [],
   "source": [
    "assert(len(ltlas_gdf['district_id'].unique())== len(new_df['district_id'].unique()))"
   ]
  },
  {
   "cell_type": "code",
   "execution_count": 19,
   "metadata": {},
   "outputs": [],
   "source": [
    "new_df.columns = map(lambda x: x.lower(), list(new_df.columns))\n",
    "new_df.to_csv(\"../comorbidity.csv\", float_format=\"%.3f\", na_rep=\"N/A\", index=False)"
   ]
  }
 ],
 "metadata": {
  "kernelspec": {
   "display_name": "Python 3.9.7 ('base')",
   "language": "python",
   "name": "python3"
  },
  "language_info": {
   "codemirror_mode": {
    "name": "ipython",
    "version": 3
   },
   "file_extension": ".py",
   "mimetype": "text/x-python",
   "name": "python",
   "nbconvert_exporter": "python",
   "pygments_lexer": "ipython3",
   "version": "3.9.19"
  },
  "orig_nbformat": 4,
  "vscode": {
   "interpreter": {
    "hash": "878ae0fd6e3254d26856d0042bf976ac5dcc346e75060cdd861132d9be011f18"
   }
  }
 },
 "nbformat": 4,
 "nbformat_minor": 2
}
