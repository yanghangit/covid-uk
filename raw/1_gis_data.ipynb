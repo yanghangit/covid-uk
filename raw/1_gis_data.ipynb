{
 "cells": [
  {
   "cell_type": "code",
   "execution_count": 1,
   "metadata": {},
   "outputs": [],
   "source": [
    "import os\n",
    "import pandas as pd\n",
    "import geopandas as gpd\n",
    "import matplotlib.pyplot as plt"
   ]
  },
  {
   "cell_type": "code",
   "execution_count": null,
   "metadata": {},
   "outputs": [],
   "source": [
    "ltlas_gdf = gpd.GeoDataFrame.from_file(os.path.join(\"gis\", 'Local_Authority_Districts_(December_2019)_Boundaries_UK_BFC/Local_Authority_Districts__December_2019__Boundaries_UK_BFC.shp'))\n",
    "ltlas_gdf = ltlas_gdf[['lad19cd', 'lad19nm', 'geometry']]\n",
    "ltlas_gdf = ltlas_gdf.rename(columns={\n",
    "    \"lad19cd\": \"district_id\",\n",
    "    \"lad19nm\": \"district_name\"\n",
    "})\n",
    "print(\"# of districts in the official GIS data (Dec 2019): %s\" % len(pd.unique(ltlas_gdf['district_name'])))\n",
    "print(\"# of districts in England in the official GIS data (Dec 2019): %s\" % len(ltlas_gdf[ltlas_gdf['district_id'].str.startswith('E')]['district_name'].unique()))"
   ]
  },
  {
   "cell_type": "code",
   "execution_count": null,
   "metadata": {},
   "outputs": [],
   "source": [
    "ltlas_gdf.loc[ltlas_gdf['district_name'] == 'City of London', 'district_id'] = 'E09000012'\n",
    "ltlas_gdf.loc[ltlas_gdf['district_name'] == 'Isles of Scilly', 'district_id'] = 'E06000052'\n",
    "ltlas_gdf = ltlas_gdf.dissolve(by='district_id').reset_index()\n",
    "ltlas_gdf.loc[:, 'district_lon'] = ltlas_gdf['geometry'].centroid.x\n",
    "ltlas_gdf.loc[:, 'district_lat'] = ltlas_gdf['geometry'].centroid.y\n",
    "ltlas_gdf.loc[ltlas_gdf['district_id'] == 'E09000012', 'district_name'] = 'Hackney and City of London'\n",
    "ltlas_gdf.loc[ltlas_gdf['district_id'] == 'E06000052', 'district_name'] = 'Cornwall and Isles of Scilly'\n",
    "ltlas_gdf.to_file(os.path.join(\"gis\", \"lad19.geojson\"), driver=\"GeoJSON\", index=False)\n",
    "ltlas_gdf.head()"
   ]
  },
  {
   "cell_type": "code",
   "execution_count": null,
   "metadata": {},
   "outputs": [],
   "source": [
    "cases = pd.read_csv(os.path.join(\"covid\", 'cases.csv'))\n",
    "print(\"# of districts in the Covid data: %s\" % len(cases['areaName'].unique()))\n",
    "print(\"# of districts in England in the Covid data: %s\" % len(cases[cases['areaCode'].str.startswith('E')]['areaCode'].unique()))"
   ]
  },
  {
   "cell_type": "code",
   "execution_count": 5,
   "metadata": {},
   "outputs": [],
   "source": [
    "assert(len(set(pd.unique(ltlas_gdf['district_name'])).difference(set(cases['areaName'].unique()))) == 0)"
   ]
  },
  {
   "cell_type": "code",
   "execution_count": 6,
   "metadata": {},
   "outputs": [],
   "source": [
    "assert(len(set(pd.unique(ltlas_gdf['district_id'])).difference(set(cases['areaCode'].unique()))) == 0)"
   ]
  },
  {
   "cell_type": "code",
   "execution_count": null,
   "metadata": {},
   "outputs": [],
   "source": [
    "print(\"GIS data are alligned to the Covid geodata.\")"
   ]
  },
  {
   "cell_type": "code",
   "execution_count": null,
   "metadata": {},
   "outputs": [],
   "source": [
    "fig, ax = plt.subplots(1, 1, figsize=(20, 20))\n",
    "centroids = gpd.GeoDataFrame(ltlas_gdf[['district_id', 'district_name']], geometry=gpd.points_from_xy(\n",
    "    ltlas_gdf['district_lon'], ltlas_gdf['district_lat']))\n",
    "ltlas_gdf.plot(\"district_name\", ax=ax)\n",
    "centroids.plot(ax=ax, marker='o', color='black', markersize=10)\n",
    "plt.savefig(os.path.join(\"gis\", \"district_centroids.png\"), dpi=300)"
   ]
  }
 ],
 "metadata": {
  "kernelspec": {
   "display_name": "Python 3.9.7 ('base')",
   "language": "python",
   "name": "python3"
  },
  "language_info": {
   "codemirror_mode": {
    "name": "ipython",
    "version": 3
   },
   "file_extension": ".py",
   "mimetype": "text/x-python",
   "name": "python",
   "nbconvert_exporter": "python",
   "pygments_lexer": "ipython3",
   "version": "3.9.19"
  },
  "orig_nbformat": 4,
  "vscode": {
   "interpreter": {
    "hash": "878ae0fd6e3254d26856d0042bf976ac5dcc346e75060cdd861132d9be011f18"
   }
  }
 },
 "nbformat": 4,
 "nbformat_minor": 2
}
