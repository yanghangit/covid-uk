{
 "cells": [
  {
   "cell_type": "code",
   "execution_count": 1,
   "metadata": {},
   "outputs": [],
   "source": [
    "import os\n",
    "import pandas as pd\n",
    "import geopandas as gpd\n",
    "import numpy as np"
   ]
  },
  {
   "cell_type": "code",
   "execution_count": 2,
   "metadata": {},
   "outputs": [],
   "source": [
    "start_date = '2020-03-01'\n",
    "end_date = '2022-03-31'"
   ]
  },
  {
   "cell_type": "code",
   "execution_count": 3,
   "metadata": {},
   "outputs": [],
   "source": [
    "cases = pd.read_csv(os.path.join(\"covid\", \"cases.csv\"))\n",
    "deaths = pd.read_csv(os.path.join(\"covid\", \"deaths.csv\"))\n",
    "tests = pd.read_csv(os.path.join(\"covid\", \"tests.csv\"))\n",
    "vaccination = pd.read_csv(os.path.join(\"covid\", \"vaccination.csv\"))"
   ]
  },
  {
   "cell_type": "code",
   "execution_count": null,
   "metadata": {},
   "outputs": [],
   "source": [
    "covid_df = pd.merge(cases, deaths, left_on=(\"areaCode\", \"areaName\", \"areaType\", \"date\"), right_on=(\"areaCode\", \"areaName\", \"areaType\", \"date\"), how=\"outer\")\n",
    "covid_df = pd.merge(covid_df, tests, left_on=(\"areaCode\", \"areaName\", \"areaType\", \"date\"), right_on=(\"areaCode\", \"areaName\", \"areaType\", \"date\"), how=\"outer\")\n",
    "covid_df = pd.merge(covid_df, vaccination, left_on=(\"areaCode\", \"areaName\", \"areaType\", \"date\"), right_on=(\"areaCode\", \"areaName\", \"areaType\", \"date\"), how=\"outer\")\n",
    "covid_df['date'] = pd.to_datetime(covid_df['date'])\n",
    "covid_df = covid_df[(covid_df[\"date\"] >= start_date) & (covid_df[\"date\"] <= end_date)]\n",
    "covid_df['date'] = covid_df['date'].dt.strftime('%Y-%m-%d')\n",
    "covid_variables = [\"newCasesBySpecimenDate\", \"newCasesPCROnlyBySpecimenDate\",\n",
    "                   \"newDeaths28DaysByDeathDate\", \"newPCRTestsBySpecimenDate\",\n",
    "                   \"newVirusTestsBySpecimenDate\", \"newPeopleVaccinatedFirstDoseByVaccinationDate\",\n",
    "                   \"newPeopleVaccinatedSecondDoseByVaccinationDate\", \"newPeopleVaccinatedThirdInjectionByVaccinationDate\"]\n",
    "covid_df.head()"
   ]
  },
  {
   "cell_type": "code",
   "execution_count": null,
   "metadata": {},
   "outputs": [],
   "source": [
    "len(covid_df['areaCode'].unique())"
   ]
  },
  {
   "cell_type": "code",
   "execution_count": null,
   "metadata": {},
   "outputs": [],
   "source": [
    "len(covid_df['areaCode'][covid_df['areaCode'].str.startswith(\"E\")].unique())"
   ]
  },
  {
   "cell_type": "code",
   "execution_count": null,
   "metadata": {},
   "outputs": [],
   "source": [
    "ltlas_gdf = gpd.GeoDataFrame.from_file(os.path.join(\"gis\", 'lad19.geojson'))\n",
    "districts = pd.unique(ltlas_gdf['district_name'])\n",
    "district_ids = pd.unique(ltlas_gdf['district_id'])\n",
    "ltlas_gdf.head()"
   ]
  },
  {
   "cell_type": "code",
   "execution_count": null,
   "metadata": {},
   "outputs": [],
   "source": [
    "covid_gdf = pd.merge(ltlas_gdf, covid_df, left_on=\"district_id\", right_on=\"areaCode\", how=\"left\")\n",
    "covid_gdf = covid_gdf[['district_name', 'district_id', 'date'] + covid_variables]\n",
    "covid_gdf.head()\n"
   ]
  },
  {
   "cell_type": "code",
   "execution_count": null,
   "metadata": {},
   "outputs": [],
   "source": [
    "dates = pd.date_range(start=start_date, end=end_date)\n",
    "\n",
    "new_records = []\n",
    "for district_name in districts:\n",
    "    district_df = covid_gdf[covid_gdf['district_name'] == district_name]\n",
    "    district_id = district_df['district_id'].values[0]\n",
    "    if len(dates) != len(pd.unique(district_df['date'])):\n",
    "        for date in dates:\n",
    "            if date.strftime('%Y-%m-%d') not in district_df['date'].unique():\n",
    "                new_record = {\n",
    "                    'district_id': district_id,\n",
    "                    'district_name': district_name,\n",
    "                    'date': date.strftime('%Y-%m-%d')\n",
    "                }\n",
    "                for covid_variable in covid_variables:\n",
    "                    new_record[covid_variable] = np.nan\n",
    "                new_records.append(new_record)\n",
    "missing_records_df = pd.DataFrame.from_records(new_records)\n",
    "covid_gdf = pd.concat([covid_gdf, missing_records_df], axis=0)\n",
    "covid_gdf = covid_gdf.sort_values(['district_name', 'date'])\n",
    "covid_gdf = covid_gdf.reset_index()\n",
    "covid_gdf = covid_gdf.drop('index', axis=1)\n",
    "covid_gdf = covid_gdf[~covid_gdf['date'].isnull()]\n",
    "covid_gdf.head()\n"
   ]
  },
  {
   "cell_type": "code",
   "execution_count": 10,
   "metadata": {},
   "outputs": [],
   "source": [
    "# make sure no date is missing for each district\n",
    "for district in districts:\n",
    "    assert(len(dates) == len(covid_gdf[covid_gdf['district_name'] == district]['date'].unique()))\n",
    "\n",
    "# make sure no district is missing for each date\n",
    "for date in dates:\n",
    "    one_day_df = covid_gdf[covid_gdf['date'] == date.strftime('%Y-%m-%d')]\n",
    "    assert(len(one_day_df['district_name'].unique()) == (len(ltlas_gdf['district_name'].unique())))"
   ]
  },
  {
   "cell_type": "code",
   "execution_count": null,
   "metadata": {},
   "outputs": [],
   "source": [
    "dates = pd.date_range(start=start_date, end=end_date)\n",
    "test_data_nation_level = pd.read_csv(os.path.join(\"covid\", \"nation_pillar_tests.csv\"))\n",
    "test_data_nation_level = test_data_nation_level.drop('areaType', axis=1)\n",
    "vacc_data_nation_level = pd.read_csv(os.path.join(\"covid\",\"nation_vaccination.csv\"))\n",
    "vacc_data_nation_level = vacc_data_nation_level.drop('areaType', axis=1)\n",
    "covid_nation_df = pd.merge(test_data_nation_level, vacc_data_nation_level, left_on=['areaCode', 'areaName', 'date'], right_on=['areaCode', 'areaName', 'date'], how=\"outer\")\n",
    "\n",
    "new_records = []\n",
    "for nation_id in covid_nation_df['areaCode'].unique():\n",
    "    nation_df = covid_nation_df[covid_nation_df['areaCode'] == nation_id]\n",
    "    nation_name = nation_df['areaName'].values[0]\n",
    "    if len(dates) != len(pd.unique(nation_df['date'])):\n",
    "        for date in dates:\n",
    "            if date.strftime('%Y-%m-%d') not in nation_df['date'].unique():\n",
    "                new_record = {\n",
    "                    'areaCode': nation_id,\n",
    "                    'areaName': nation_name,\n",
    "                    'date': date.strftime('%Y-%m-%d')\n",
    "                }\n",
    "                for covid_variable in ['newPillarOneTwoTestsByPublishDate',\n",
    "                                       'newPeopleVaccinatedFirstDoseByPublishDate',\n",
    "                                       'newPeopleVaccinatedSecondDoseByPublishDate',\n",
    "                                       'newPeopleVaccinatedThirdInjectionByPublishDate']:\n",
    "                    new_record[covid_variable] = np.nan\n",
    "                new_records.append(new_record)\n",
    "missing_records_df = pd.DataFrame.from_records(new_records)\n",
    "covid_nation_df = pd.concat([covid_nation_df, missing_records_df], axis=0)\n",
    "covid_nation_df = covid_nation_df.sort_values(['areaName', 'date'])\n",
    "covid_nation_df = covid_nation_df.reset_index()\n",
    "covid_nation_df = covid_nation_df.drop('index', axis=1)\n",
    "covid_nation_df = covid_nation_df[~covid_nation_df['date'].isnull()]\n",
    "covid_nation_df.head()\n"
   ]
  },
  {
   "cell_type": "code",
   "execution_count": 12,
   "metadata": {},
   "outputs": [],
   "source": [
    "# For missing testing data (at the local authority level) in Scotland, Wales, Northern Ireland\n",
    "census_df = pd.read_csv('../census.csv')\n",
    "for district_id in covid_gdf['district_id'].unique():\n",
    "    if not district_id.startswith(\"E\"):\n",
    "        district_population = census_df[census_df['district_id'] == district_id]['population'].values[0]\n",
    "        if district_id.startswith(\"N\"):\n",
    "            nation_df = covid_nation_df[covid_nation_df['areaName'] == \"Northern Ireland\"]\n",
    "            total_nation_population = census_df[census_df['district_id'].str.startswith(\"N\")]['population'].sum()\n",
    "        if district_id.startswith(\"S\"):\n",
    "            nation_df = covid_nation_df[covid_nation_df['areaName'] == \"Scotland\"]\n",
    "            total_nation_population = census_df[census_df['district_id'].str.startswith(\"S\")]['population'].sum()\n",
    "        if district_id.startswith(\"W\"):\n",
    "            nation_df = covid_nation_df[covid_nation_df['areaName'] == \"Wales\"]\n",
    "            total_nation_population = census_df[census_df['district_id'].str.startswith(\"W\")]['population'].sum()\n",
    "\n",
    "        total_test_nation_level = nation_df['newPillarOneTwoTestsByPublishDate'].values\n",
    "        estimated_test_district_level = district_population / total_nation_population\n",
    "        covid_gdf.loc[(covid_gdf['district_id'] == district_id), 'newVirusTestsBySpecimenDate'] = estimated_test_district_level"
   ]
  },
  {
   "cell_type": "code",
   "execution_count": 13,
   "metadata": {},
   "outputs": [],
   "source": [
    "# For missing vaccination data (at the local authority level) in Wales, Northern Ireland\n",
    "census_df = pd.read_csv('../census.csv')\n",
    "vacc_data_nation_level = pd.read_csv(os.path.join(\"covid\", \"nation_vaccination.csv\"))\n",
    "for district_id in covid_gdf['district_id'].unique():\n",
    "    if not district_id.startswith(\"E\") and not district_id.startswith(\"S\"):\n",
    "        district_population = census_df[census_df['district_id'] == district_id]['population'].values[0]\n",
    "        if district_id.startswith(\"N\"):\n",
    "            nation_df = covid_nation_df[covid_nation_df['areaName'] == \"Northern Ireland\"]\n",
    "            total_nation_population = census_df[census_df['district_id'].str.startswith(\"N\")]['population'].sum()\n",
    "        if district_id.startswith(\"W\"):\n",
    "            nation_df = covid_nation_df[covid_nation_df['areaName'] == \"Wales\"]\n",
    "            total_nation_population = census_df[census_df['district_id'].str.startswith(\"W\")]['population'].sum()\n",
    "        for variable in ['newPeopleVaccinatedFirstDoseByPublishDate', 'newPeopleVaccinatedSecondDoseByPublishDate', 'newPeopleVaccinatedThirdInjectionByPublishDate']:\n",
    "            total_vacc_nation_level = nation_df[variable].values\n",
    "            estimated_vacc_district_level = total_vacc_nation_level * district_population / total_nation_population\n",
    "            covid_gdf.loc[covid_gdf['district_id'] == district_id, variable.replace(\"PublishDate\", \"VaccinationDate\")] = estimated_vacc_district_level\n"
   ]
  },
  {
   "cell_type": "code",
   "execution_count": 14,
   "metadata": {},
   "outputs": [],
   "source": [
    "covid_gdf = covid_gdf.rename(columns={\n",
    "    \"newCasesBySpecimenDate\": \"cases\",\n",
    "    \"newCasesPCROnlyBySpecimenDate\": \"cases_PCR\",\n",
    "    \"newDeaths28DaysByDeathDate\": \"deaths\",\n",
    "    \"newPCRTestsBySpecimenDate\": \"tests_PCR\",\n",
    "    \"newVirusTestsBySpecimenDate\": \"tests\",\n",
    "    \"newPeopleVaccinatedFirstDoseByVaccinationDate\": \"vacc_first_dose\",\n",
    "    \"newPeopleVaccinatedSecondDoseByVaccinationDate\": \"vacc_second_dose\",\n",
    "    \"newPeopleVaccinatedThirdInjectionByVaccinationDate\": \"vacc_third_injection\"\n",
    "})\n"
   ]
  },
  {
   "cell_type": "code",
   "execution_count": 15,
   "metadata": {},
   "outputs": [],
   "source": [
    "covid_variables = ['cases', 'cases_PCR', 'deaths', 'tests', 'tests_PCR',\n",
    "                   'vacc_first_dose', 'vacc_second_dose', 'vacc_third_injection']\n",
    "covid_gdf = covid_gdf[['district_name',\n",
    "                       'district_id', 'date'] + covid_variables]\n",
    "covid_gdf[covid_variables] = covid_gdf[covid_variables].astype(float)\n"
   ]
  },
  {
   "cell_type": "code",
   "execution_count": 16,
   "metadata": {},
   "outputs": [],
   "source": [
    "covid_gdf.to_csv(\"../covid.csv\", float_format=\"%.1f\", na_rep=\"N/A\", index=False)"
   ]
  }
 ],
 "metadata": {
  "kernelspec": {
   "display_name": "Python 3.9.7 ('base')",
   "language": "python",
   "name": "python3"
  },
  "language_info": {
   "codemirror_mode": {
    "name": "ipython",
    "version": 3
   },
   "file_extension": ".py",
   "mimetype": "text/x-python",
   "name": "python",
   "nbconvert_exporter": "python",
   "pygments_lexer": "ipython3",
   "version": "3.9.19"
  },
  "orig_nbformat": 4,
  "vscode": {
   "interpreter": {
    "hash": "878ae0fd6e3254d26856d0042bf976ac5dcc346e75060cdd861132d9be011f18"
   }
  }
 },
 "nbformat": 4,
 "nbformat_minor": 2
}
