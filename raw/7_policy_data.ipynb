{
 "cells": [
  {
   "cell_type": "code",
   "execution_count": 1,
   "metadata": {},
   "outputs": [],
   "source": [
    "import os\n",
    "import pandas as pd\n",
    "import geopandas as gpd"
   ]
  },
  {
   "cell_type": "code",
   "execution_count": 2,
   "metadata": {},
   "outputs": [],
   "source": [
    "start_date = '2020-03-01'\n",
    "end_date = '2022-03-31'"
   ]
  },
  {
   "cell_type": "code",
   "execution_count": null,
   "metadata": {},
   "outputs": [],
   "source": [
    "policy_response_df = pd.read_csv(os.path.join(\"policy_response\", \"covid-policy-tracker-master/data/OxCGRT_latest.csv\"), low_memory=False)\n",
    "policy_response_df = policy_response_df[(policy_response_df['CountryName'] == \"United Kingdom\") & (\n",
    "    policy_response_df['Jurisdiction'] == \"STATE_TOTAL\")]\n",
    "policy_variables = ['C1_School closing', 'C2_Workplace closing', 'C3_Cancel public events',\n",
    "                    'C4_Restrictions on gatherings', 'C5_Close public transport', 'C6_Stay at home requirements',\n",
    "                    'C7_Restrictions on internal movement', 'C8_International travel controls',\n",
    "                    'H3_Contact tracing', 'H6_Facial Coverings']\n",
    "policy_response_df = policy_response_df.rename(columns={\"Date\": \"date\"})\n",
    "policy_response_df = policy_response_df[['RegionName', 'date'] + policy_variables]\n",
    "policy_response_df['date'] = pd.to_datetime(\n",
    "    policy_response_df['date'], format=\"%Y%m%d\")\n",
    "policy_response_df = policy_response_df[(policy_response_df[\"date\"] >= start_date)\n",
    "                                        & (policy_response_df[\"date\"] <= end_date)]\n",
    "policy_response_df['date'] = policy_response_df['date'].dt.strftime('%Y-%m-%d')\n",
    "policy_response_df = policy_response_df.sort_values(['RegionName', 'date'])\n",
    "policy_response_df = policy_response_df.reset_index()\n",
    "policy_response_df = policy_response_df.drop('index', axis=1)\n",
    "policy_response_df.head()\n"
   ]
  },
  {
   "cell_type": "code",
   "execution_count": null,
   "metadata": {},
   "outputs": [],
   "source": [
    "# Temporal interpolation\n",
    "for region in policy_response_df['RegionName'].unique():\n",
    "    for policy_variable in policy_variables:\n",
    "        policy_response_df.loc[policy_response_df['RegionName']==region, policy_variable] = policy_response_df.loc[policy_response_df['RegionName']==region, policy_variable].bfill()\n",
    "policy_response_df.head()"
   ]
  },
  {
   "cell_type": "code",
   "execution_count": null,
   "metadata": {},
   "outputs": [],
   "source": [
    "ltlas_gdf = gpd.GeoDataFrame.from_file(os.path.join(\"gis\", 'lad19.geojson'))\n",
    "ltlas_gdf.head()"
   ]
  },
  {
   "cell_type": "code",
   "execution_count": null,
   "metadata": {},
   "outputs": [],
   "source": [
    "policy_response_gdf = []\n",
    "for idx, row in ltlas_gdf.iterrows():\n",
    "    district_name = row['district_name']\n",
    "    district_id = row['district_id']\n",
    "    if district_id.startswith(\"E\"):\n",
    "        one_df = policy_response_df[policy_response_df['RegionName']==\"England\"].copy()\n",
    "    elif district_id.startswith(\"N\"):\n",
    "        one_df = policy_response_df[policy_response_df['RegionName']==\"Northern Ireland\"].copy()\n",
    "    elif district_id.startswith(\"W\"):\n",
    "        one_df = policy_response_df[policy_response_df['RegionName']==\"Wales\"].copy()\n",
    "    elif district_id.startswith(\"S\"):\n",
    "        one_df = policy_response_df[policy_response_df['RegionName']==\"Scotland\"].copy()\n",
    "    else:\n",
    "        print(\"Unknown district prefix: %s\" % district_name)\n",
    "    one_df['district_name'] = district_name\n",
    "    one_df['district_id'] = district_id\n",
    "    policy_response_gdf.append(one_df)\n",
    "\n",
    "policy_response_gdf = pd.concat(policy_response_gdf, axis=0).reset_index()\n",
    "policy_response_gdf = policy_response_gdf[[\n",
    "    'district_name', 'district_id', 'date'] + policy_variables]\n",
    "updated_columns = {}\n",
    "updated_policy_variables = []\n",
    "for policy_variable in policy_variables:\n",
    "    updated_policy_variable = \"_\".join(\n",
    "        map(lambda x: x.lower(), policy_variable.split(\"_\")[1].split()))\n",
    "    updated_columns[policy_variable] = updated_policy_variable\n",
    "    updated_policy_variables.append(updated_policy_variable)\n",
    "policy_response_gdf = policy_response_gdf.rename(columns=updated_columns)\n",
    "policy_response_gdf = policy_response_gdf.sort_values(['district_name', 'date'])\n",
    "policy_response_gdf = policy_response_gdf.reset_index()\n",
    "policy_response_gdf = policy_response_gdf.drop('index', axis=1)\n",
    "policy_response_gdf.head()\n"
   ]
  },
  {
   "cell_type": "code",
   "execution_count": 7,
   "metadata": {},
   "outputs": [],
   "source": [
    "policy_response_gdf[updated_policy_variables] = policy_response_gdf[updated_policy_variables].astype(float)\n",
    "policy_response_gdf.to_csv(\"../policy_response.csv\", float_format=\"%.1f\", na_rep=\"N/A\", index=False)"
   ]
  }
 ],
 "metadata": {
  "kernelspec": {
   "display_name": "Python 3.9.7 ('base')",
   "language": "python",
   "name": "python3"
  },
  "language_info": {
   "codemirror_mode": {
    "name": "ipython",
    "version": 3
   },
   "file_extension": ".py",
   "mimetype": "text/x-python",
   "name": "python",
   "nbconvert_exporter": "python",
   "pygments_lexer": "ipython3",
   "version": "3.9.19"
  },
  "orig_nbformat": 4,
  "vscode": {
   "interpreter": {
    "hash": "878ae0fd6e3254d26856d0042bf976ac5dcc346e75060cdd861132d9be011f18"
   }
  }
 },
 "nbformat": 4,
 "nbformat_minor": 2
}
