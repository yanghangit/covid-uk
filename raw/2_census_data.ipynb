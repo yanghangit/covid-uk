{
 "cells": [
  {
   "cell_type": "code",
   "execution_count": 1,
   "metadata": {},
   "outputs": [],
   "source": [
    "import os\n",
    "import pandas as pd\n",
    "import geopandas as gpd"
   ]
  },
  {
   "cell_type": "code",
   "execution_count": 2,
   "metadata": {},
   "outputs": [],
   "source": [
    "district_mapping_2011_census = {\n",
    "    # match district names to the 2011 census names\n",
    "    \"Hackney and City of London\": [\"Hackney\", \"City of London\"],\n",
    "    \"Cornwall and Isles of Scilly\": [\"Cornwall\", \"Isles of Scilly\"],\n",
    "    \"Bournemouth, Christchurch and Poole\": [\"Bournemouth\", \"Christchurch\", \"Poole\"],\n",
    "    \"Dorset\": [\"Weymouth and Portland\", \"West Dorset\", \"North Dorset\", \"Purbeck\", \"East Dorset\"],\n",
    "    \"East Suffolk\": [\"Suffolk Coastal\", \"Waveney\"],\n",
    "    \"West Suffolk\": [\"Forest Heath\", \"St Edmundsbury\"],\n",
    "    \"Somerset West and Taunton\": [\"West Somerset\", \"Taunton Deane\"],\n",
    "    \"Antrim and Newtownabbey\": [\"Antrim\", \"Newtownabbey\"],\n",
    "    \"Armagh City, Banbridge and Craigavon\": [\"Armagh\", \"Banbridge\", \"Craigavon\"],\n",
    "    \"Causeway Coast and Glens\": ['Ballymoney', 'Coleraine', 'Limavady', 'Moyle'],\n",
    "    \"Derry City and Strabane\": [\"Derry\", \"Strabane\"],\n",
    "    \"Fermanagh and Omagh\": [\"Fermanagh\", \"Omagh\"],\n",
    "    \"Lisburn and Castlereagh\": [\"Lisburn\", \"Castlereagh\"],\n",
    "    \"Mid and East Antrim\": [\"Ballymena\", \"Larne\", \"Carrickfergus\"],\n",
    "    \"Mid Ulster\": [\"Cookstown\", \"Dungannon\", \"\"],\n",
    "    \"Newry, Mourne and Down\": [\"Newry and Mourne\", \"Down\"],\n",
    "    \"Ards and North Down\": [\"Ards\", \"North Down\"],\n",
    "    \"Rhondda Cynon Taf\": [\"Rhondda Cynon Taff\"]\n",
    "}\n",
    "\n",
    "\n",
    "def update_census_districts(df):\n",
    "    df = df.copy()\n",
    "    new_rows = []\n",
    "    for new_district in district_mapping_2011_census:\n",
    "        old_districts = district_mapping_2011_census[new_district]\n",
    "        for old_district in old_districts:\n",
    "            df['geography'] = df['geography'].replace(old_district, new_district)\n",
    "    df = df.drop(['date', 'geography code'], axis=1)\n",
    "    df = df.groupby(['geography']).sum().reset_index()\n",
    "    return df"
   ]
  },
  {
   "cell_type": "code",
   "execution_count": null,
   "metadata": {},
   "outputs": [],
   "source": [
    "age_2011 = pd.read_csv(os.path.join(\"census\", \"2011\", \"Age (UK).csv\"))\n",
    "age_2011 = update_census_districts(age_2011)\n",
    "young_variables = [\"Age: Age 0 to 4; Rural Urban: Total; measures: Value\",\n",
    "                   \"Age: Age 5 to 7; Rural Urban: Total; measures: Value\",\n",
    "                   \"Age: Age 8 to 9; Rural Urban: Total; measures: Value\",\n",
    "                   \"Age: Age 10 to 14; Rural Urban: Total; measures: Value\",\n",
    "                   \"Age: Age 15; Rural Urban: Total; measures: Value\",\n",
    "                   \"Age: Age 16 to 17; Rural Urban: Total; measures: Value\",\n",
    "                   \"Age: Age 18 to 19; Rural Urban: Total; measures: Value\"\n",
    "                   ]\n",
    "old_variables = [\"Age: Age 65 to 74; Rural Urban: Total; measures: Value\",\n",
    "                 \"Age: Age 75 to 84; Rural Urban: Total; measures: Value\",\n",
    "                 \"Age: Age 85 to 89; Rural Urban: Total; measures: Value\",\n",
    "                 \"Age: Age 90 and over; Rural Urban: Total; measures: Value\"]\n",
    "age_2011[\"young_percent\"] = age_2011[young_variables].sum(axis=1) / age_2011['Age: All usual residents; Rural Urban: Total; measures: Value']\n",
    "age_2011[\"old_percent\"] = age_2011[old_variables].sum(axis=1) / age_2011['Age: All usual residents; Rural Urban: Total; measures: Value']\n",
    "age_2011 = age_2011[['geography', 'young_percent', 'old_percent']]\n",
    "age_2011.head()"
   ]
  },
  {
   "cell_type": "code",
   "execution_count": null,
   "metadata": {},
   "outputs": [],
   "source": [
    "sex_2011 = pd.read_csv(os.path.join(\"census\", \"2011\", \"Sex (UK).csv\"))\n",
    "sex_2011 = update_census_districts(sex_2011)\n",
    "sex_2011['male_female_ratio'] = sex_2011[\"Sex: Males; measures: Value\"] / sex_2011[\"Sex: Females; measures: Value\"]\n",
    "sex_2011 = sex_2011[['geography', 'male_female_ratio']]\n",
    "sex_2011.head()"
   ]
  },
  {
   "cell_type": "code",
   "execution_count": null,
   "metadata": {},
   "outputs": [],
   "source": [
    "population_density_2011 = pd.read_csv(os.path.join(\"census\", \"2011\", \"Population density (UK).csv\"))\n",
    "population_density_2011 = update_census_districts(population_density_2011)\n",
    "population_density_2011['population'] = population_density_2011['Area/Population Density: All usual residents; measures: Value'] \n",
    "population_density_2011['population_density'] = population_density_2011['Area/Population Density: All usual residents; measures: Value'] / population_density_2011['Area/Population Density: Area Hectares; measures: Value']\n",
    "population_density_2011 = population_density_2011[['geography', 'population', 'population_density']]\n",
    "population_density_2011.head()"
   ]
  },
  {
   "cell_type": "code",
   "execution_count": null,
   "metadata": {},
   "outputs": [],
   "source": [
    "ethnicity_2011 = pd.read_csv(os.path.join(\"census\", \"2011\", \"Ethnicity (UK).csv\"))\n",
    "ethnicity_2011 = update_census_districts(ethnicity_2011)\n",
    "ethnicity_2011['black_population_percent'] = ethnicity_2011['Ethnic Group: Black / African / Caribbean / Black British; measures: Value'] / ethnicity_2011['Ethnic Group: All categories: Ethnic group; measures: Value']\n",
    "ethnicity_2011['white_population_percent'] = ethnicity_2011['Ethnic Group: White; measures: Value'] / ethnicity_2011['Ethnic Group: All categories: Ethnic group; measures: Value']\n",
    "ethnicity_2011 = ethnicity_2011[['geography', 'black_population_percent', 'white_population_percent']]\n",
    "ethnicity_2011.head()"
   ]
  },
  {
   "cell_type": "code",
   "execution_count": null,
   "metadata": {},
   "outputs": [],
   "source": [
    "education_2011 = pd.read_csv(os.path.join(\"census\", \"2011\", \"Education level (UK).csv\"))\n",
    "education_2011 = update_census_districts(education_2011)\n",
    "education_2011['low_education_percent'] = education_2011['Qualification: No qualifications; measures: Value'] / education_2011['Qualification: All categories: Highest level of qualification; measures: Value']\n",
    "education_2011 = education_2011[['geography', 'low_education_percent']]\n",
    "education_2011.head()"
   ]
  },
  {
   "cell_type": "code",
   "execution_count": null,
   "metadata": {},
   "outputs": [],
   "source": [
    "ltlas_gdf = gpd.GeoDataFrame.from_file(os.path.join(\"gis\", 'lad19.geojson'))\n",
    "ltlas_gdf = ltlas_gdf[['district_id', 'district_name']]\n",
    "districts = pd.unique(ltlas_gdf['district_name'])\n",
    "district_ids = pd.unique(ltlas_gdf['district_id'])\n",
    "ltlas_gdf.head()"
   ]
  },
  {
   "cell_type": "code",
   "execution_count": null,
   "metadata": {},
   "outputs": [],
   "source": [
    "census_df = pd.merge(ltlas_gdf, age_2011, left_on=\"district_name\", right_on=\"geography\", how=\"left\")\n",
    "census_df = pd.merge(census_df, sex_2011, left_on=\"geography\", right_on=\"geography\", how=\"left\")\n",
    "census_df = pd.merge(census_df, population_density_2011, left_on=\"geography\", right_on=\"geography\", how=\"left\")\n",
    "census_df = pd.merge(census_df, ethnicity_2011, left_on=\"geography\", right_on=\"geography\", how=\"left\")\n",
    "census_df = pd.merge(census_df, education_2011, left_on=\"geography\", right_on=\"geography\", how=\"left\")\n",
    "\n",
    "census_df = census_df.sort_values(['district_name', 'district_id'])\n",
    "census_df = census_df.reset_index()\n",
    "census_df = census_df.drop('index', axis=1)\n",
    "census_df = census_df.drop('geography', axis=1)\n",
    "census_df.head()"
   ]
  },
  {
   "cell_type": "code",
   "execution_count": 10,
   "metadata": {},
   "outputs": [],
   "source": [
    "district_mapping_2021_census = {\n",
    "    # from district names to 2021 census names\n",
    "    \"Aylesbury Vale\": \"Buckinghamshire\",\n",
    "    \"Chiltern\": \"Buckinghamshire\",\n",
    "    \"Corby\": \"North Northamptonshire\",\n",
    "    \"Daventry\": \"West Northamptonshire\",\n",
    "    \"East Northamptonshire\": \"North Northamptonshire\",\n",
    "    \"Kettering\": \"North Northamptonshire\",\n",
    "    \"Northampton\": \"West Northamptonshire\",\n",
    "    \"South Bucks\": \"Buckinghamshire\",\n",
    "    \"South Northamptonshire\": \"West Northamptonshire\",\n",
    "    \"Wellingborough\": \"North Northamptonshire\",\n",
    "    \"Wycombe\": \"Buckinghamshire\"\n",
    "}\n",
    "\n",
    "\n",
    "def update_census_data(census_df, new_data, attribute_name):\n",
    "    for district_id in census_df['district_id'].unique():\n",
    "        # for England and Wales\n",
    "        if district_id.startswith(\"E\") or district_id.startswith(\"W\"):\n",
    "            # Hackney and City of London\n",
    "            if district_id in [\"E09000001\", \"E09000012\"]:\n",
    "                updated_value = sum(new_data[new_data['Area code [note 2]'].isin([\"E09000001\", \"E09000012\"])][attribute_name].values)\n",
    "                census_df.loc[census_df['district_id'] == \"E09000012\", attribute_name] = updated_value\n",
    "            # Cornwall and Isles of Scilly\n",
    "            elif district_id in [\"E06000052\", \"E06000053\"]:\n",
    "                updated_value = sum(new_data[new_data['Area code [note 2]'].isin([\"E06000052\", \"E06000053\"])][attribute_name].values)\n",
    "                census_df.loc[census_df['district_id'] == \"E06000052\", attribute_name] = updated_value\n",
    "            else:\n",
    "                updated_value = new_data[new_data['Area code [note 2]']\n",
    "                                        == district_id][attribute_name].values\n",
    "                if len(updated_value):\n",
    "                    updated_value = updated_value[0]\n",
    "                    census_df.loc[census_df['district_id'] ==\n",
    "                                district_id, attribute_name] = updated_value\n",
    "                else:\n",
    "                    district_name = census_df[census_df['district_id']\n",
    "                                            == district_id]['district_name'].values[0]\n",
    "                    assert(district_name in district_mapping_2021_census)\n",
    "                    new_district_name = district_mapping_2021_census[district_name]\n",
    "                    updated_value = new_data[new_data['Area name']\n",
    "                                            == new_district_name][attribute_name].values\n",
    "                    if len(updated_value):\n",
    "                        updated_value = updated_value[0]\n",
    "                        census_df.loc[census_df['district_id'] ==\n",
    "                                    district_id, attribute_name] = updated_value\n",
    "    return census_df"
   ]
  },
  {
   "cell_type": "code",
   "execution_count": 11,
   "metadata": {},
   "outputs": [],
   "source": [
    "sex_2021 = pd.read_excel(os.path.join(\"census\", \"2021\", \"Population density, age, sex (England and Wales).xlsx\"), sheet_name=\"P01\", skiprows=6)\n",
    "sex_2021['male_female_ratio'] = sex_2021['Males'] / sex_2021['Females']\n",
    "sex_2021['population'] = sex_2021['All persons']\n",
    "census_df = update_census_data(census_df, sex_2021, 'male_female_ratio')\n",
    "census_df = update_census_data(census_df, sex_2021, 'population')"
   ]
  },
  {
   "cell_type": "code",
   "execution_count": 12,
   "metadata": {},
   "outputs": [],
   "source": [
    "young_variables = [\"Aged 4 years and under\\n[note 12]\",\n",
    "                   \"Aged 5 to 9 years\\n[note 12]\",\n",
    "                   \"Aged 10 to 14 years\\n[note 12]\",\n",
    "                   \"Aged 15 to 19 years\\n[note 12]\"]\n",
    "old_variables = [\"Aged 65 to 69 years\\n[note 12]\",\n",
    "                 \"Aged 70 to 74 years\\n[note 12]\",\n",
    "                 \"Aged 75 to 79 years\\n[note 12]\",\n",
    "                 \"Aged 80 to 84 years\\n[note 12]\",\n",
    "                 \"Aged 85 to 89 years\\n[note 12]\",\n",
    "                 \"Aged 90 years and over\\n[note 12]\"]\n",
    "age_2021 = pd.read_excel(os.path.join(\"census\", \"2021\", \"Population density, age, sex (England and Wales).xlsx\"), sheet_name=\"P02\", skiprows=7)\n",
    "age_2021[\"young_percent\"] = age_2021[young_variables].sum(axis=1) / age_2021['All persons']\n",
    "age_2021[\"old_percent\"] = age_2021[old_variables].sum(axis=1) / age_2021['All persons']\n",
    "\n",
    "census_df = update_census_data(census_df, age_2021, 'young_percent')\n",
    "census_df = update_census_data(census_df, age_2021, 'old_percent')"
   ]
  },
  {
   "cell_type": "code",
   "execution_count": 13,
   "metadata": {},
   "outputs": [],
   "source": [
    "population_density_2021 = pd.read_excel(os.path.join(\"census\", \"2021\", \"Population density, age, sex (England and Wales).xlsx\"), sheet_name=\"P04\", skiprows=6)\n",
    "# square kilometer to hectare\n",
    "population_density_2021['population_density'] = population_density_2021['Population density (number of usual residents per square kilometre) \\n[note 13]'] / 100\n",
    "census_df = update_census_data(census_df, population_density_2021, 'population_density')"
   ]
  },
  {
   "cell_type": "code",
   "execution_count": 14,
   "metadata": {},
   "outputs": [],
   "source": [
    "assert(len(ltlas_gdf['district_id'].unique()) == len(census_df['district_id'].unique()))"
   ]
  },
  {
   "cell_type": "code",
   "execution_count": 15,
   "metadata": {},
   "outputs": [],
   "source": [
    "census_df.to_csv(\"../census.csv\", float_format=\"%.3f\", na_rep=\"N/A\", index=False)"
   ]
  }
 ],
 "metadata": {
  "kernelspec": {
   "display_name": "Python 3.9.7 ('base')",
   "language": "python",
   "name": "python3"
  },
  "language_info": {
   "codemirror_mode": {
    "name": "ipython",
    "version": 3
   },
   "file_extension": ".py",
   "mimetype": "text/x-python",
   "name": "python",
   "nbconvert_exporter": "python",
   "pygments_lexer": "ipython3",
   "version": "3.9.19"
  },
  "orig_nbformat": 4,
  "vscode": {
   "interpreter": {
    "hash": "878ae0fd6e3254d26856d0042bf976ac5dcc346e75060cdd861132d9be011f18"
   }
  }
 },
 "nbformat": 4,
 "nbformat_minor": 2
}
